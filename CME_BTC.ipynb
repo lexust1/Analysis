{
 "cells": [
  {
   "cell_type": "markdown",
   "id": "ccf45302-310f-4902-acfb-650e253f9448",
   "metadata": {},
   "source": [
    "## Disclaimer\n",
    "*The fia package and any results received by using the fia package are for informational and educational purposes only. You should not construe any such information or other material as\n",
    "legal, tax, investment, financial, or other advice. There are risks associated with investing in any securities and assets. Do your own research. \n",
    "Past performance is not a guarantee of future return or performance. You may gain or lose money.*"
   ]
  },
  {
   "cell_type": "markdown",
   "id": "66a0a73c-2b65-430e-ad86-f9ad89bbbf79",
   "metadata": {},
   "source": [
    "# BTC analysis on CME and crypto exchanges."
   ]
  },
  {
   "cell_type": "markdown",
   "id": "5685cde1-06c3-4eed-8bf6-575e4cb42386",
   "metadata": {},
   "source": [
    "Import the libraries:"
   ]
  },
  {
   "cell_type": "code",
   "execution_count": 1,
   "id": "99500850-85d0-40c3-9773-66781175d7fb",
   "metadata": {},
   "outputs": [],
   "source": [
    "import os\n",
    "\n",
    "\n",
    "from dotenv import load_dotenv\n",
    "from fia import Frame, TvDataCollector, set_logger\n",
    "import pandas as pd\n"
   ]
  },
  {
   "cell_type": "markdown",
   "id": "32e5c39b-d46a-4e22-a75a-a893d501880c",
   "metadata": {},
   "source": [
    "Set the environmental variables (Username and Password) from the .env-file (you should install python-dotenv and create the .env-file in the same folder): "
   ]
  },
  {
   "cell_type": "code",
   "execution_count": 2,
   "id": "d2481f44-7672-4233-ab73-a35f37276bb2",
   "metadata": {},
   "outputs": [
    {
     "data": {
      "text/plain": [
       "True"
      ]
     },
     "execution_count": 2,
     "metadata": {},
     "output_type": "execute_result"
    }
   ],
   "source": [
    "load_dotenv()"
   ]
  },
  {
   "cell_type": "markdown",
   "id": "cbf36610-37b6-4688-a0c4-70cd45f8477b",
   "metadata": {},
   "source": [
    "Set the logger status (optional; \"INFO\", \"DEBUG\", \"WARNING\", etc.)"
   ]
  },
  {
   "cell_type": "code",
   "execution_count": 3,
   "id": "6d68ad93-649d-4f52-bb44-79c65b19f5af",
   "metadata": {},
   "outputs": [],
   "source": [
    "set_logger(\"INFO\")"
   ]
  },
  {
   "cell_type": "markdown",
   "id": "e2ddd604-0513-4cb8-8522-4a1391f8d706",
   "metadata": {
    "tags": []
   },
   "source": [
    "## Collect and prepare the data from CME (BTC1! CME)"
   ]
  },
  {
   "cell_type": "markdown",
   "id": "f9e1e17e-3c20-4556-b853-d4bb383d9346",
   "metadata": {},
   "source": [
    "Collect the CME futures historical market data for the last five years (the month timeframe):"
   ]
  },
  {
   "cell_type": "code",
   "execution_count": 4,
   "id": "498c8944-46cd-425c-b880-d94b85757952",
   "metadata": {},
   "outputs": [
    {
     "name": "stdout",
     "output_type": "stream",
     "text": [
      "2023-01-25 18:43:47,106 | fia.main | INFO | The Websocket connection was created.\n",
      "2023-01-25 18:43:48,568 | fia.main | INFO | All messages were created and sent. Wait...\n",
      "2023-01-25 18:45:07,267 | fia.main | WARNING | The remote host closed the Websocket connection or a network error happened.\n",
      "2023-01-25 18:45:07,272 | fia.main | INFO | The raw data is collected and the WebSocket connection is closed.\n",
      "2023-01-25 18:45:07,275 | fia.main | INFO | The json market data was created.\n",
      "2023-01-25 18:45:07,396 | fia.main | INFO | The dataframe market data was created.\n"
     ]
    },
    {
     "data": {
      "text/html": [
       "<div>\n",
       "<style scoped>\n",
       "    .dataframe tbody tr th:only-of-type {\n",
       "        vertical-align: middle;\n",
       "    }\n",
       "\n",
       "    .dataframe tbody tr th {\n",
       "        vertical-align: top;\n",
       "    }\n",
       "\n",
       "    .dataframe thead th {\n",
       "        text-align: right;\n",
       "    }\n",
       "</style>\n",
       "<table border=\"1\" class=\"dataframe\">\n",
       "  <thead>\n",
       "    <tr style=\"text-align: right;\">\n",
       "      <th></th>\n",
       "      <th>DateTime</th>\n",
       "      <th>Open</th>\n",
       "      <th>High</th>\n",
       "      <th>Low</th>\n",
       "      <th>Close</th>\n",
       "      <th>Volume</th>\n",
       "    </tr>\n",
       "  </thead>\n",
       "  <tbody>\n",
       "    <tr>\n",
       "      <th>0</th>\n",
       "      <td>2018-01-31 17:00:00-06:00</td>\n",
       "      <td>10020.0</td>\n",
       "      <td>11760.0</td>\n",
       "      <td>5970.0</td>\n",
       "      <td>10645.0</td>\n",
       "      <td>22415.0</td>\n",
       "    </tr>\n",
       "    <tr>\n",
       "      <th>1</th>\n",
       "      <td>2018-02-28 17:00:00-06:00</td>\n",
       "      <td>10450.0</td>\n",
       "      <td>11700.0</td>\n",
       "      <td>7070.0</td>\n",
       "      <td>7335.0</td>\n",
       "      <td>43599.0</td>\n",
       "    </tr>\n",
       "    <tr>\n",
       "      <th>2</th>\n",
       "      <td>2018-04-01 17:00:00-05:00</td>\n",
       "      <td>6905.0</td>\n",
       "      <td>9750.0</td>\n",
       "      <td>6485.0</td>\n",
       "      <td>9365.0</td>\n",
       "      <td>59129.0</td>\n",
       "    </tr>\n",
       "    <tr>\n",
       "      <th>3</th>\n",
       "      <td>2018-04-30 17:00:00-05:00</td>\n",
       "      <td>9285.0</td>\n",
       "      <td>9840.0</td>\n",
       "      <td>7050.0</td>\n",
       "      <td>7545.0</td>\n",
       "      <td>72710.0</td>\n",
       "    </tr>\n",
       "    <tr>\n",
       "      <th>4</th>\n",
       "      <td>2018-05-31 17:00:00-05:00</td>\n",
       "      <td>7550.0</td>\n",
       "      <td>7900.0</td>\n",
       "      <td>5755.0</td>\n",
       "      <td>5865.0</td>\n",
       "      <td>53182.0</td>\n",
       "    </tr>\n",
       "  </tbody>\n",
       "</table>\n",
       "</div>"
      ],
      "text/plain": [
       "                   DateTime     Open     High     Low    Close   Volume\n",
       "0 2018-01-31 17:00:00-06:00  10020.0  11760.0  5970.0  10645.0  22415.0\n",
       "1 2018-02-28 17:00:00-06:00  10450.0  11700.0  7070.0   7335.0  43599.0\n",
       "2 2018-04-01 17:00:00-05:00   6905.0   9750.0  6485.0   9365.0  59129.0\n",
       "3 2018-04-30 17:00:00-05:00   9285.0   9840.0  7050.0   7545.0  72710.0\n",
       "4 2018-05-31 17:00:00-05:00   7550.0   7900.0  5755.0   5865.0  53182.0"
      ]
     },
     "execution_count": 4,
     "metadata": {},
     "output_type": "execute_result"
    }
   ],
   "source": [
    "tvdc = TvDataCollector(username=os.environ.get(\"TV_USERNAME\"),\n",
    "                       password=os.environ.get(\"TV_PASSWORD\"),\n",
    "                       exchange=\"CME\", \n",
    "                       ticker_sym=\"BTC1!\",\n",
    "                       currency=\"USD\",\n",
    "                       frame=Frame.MONTH,\n",
    "                       bars=60)\n",
    "raw_data = tvdc.get_data()\n",
    "df_BTC_CME_month = tvdc.get_pandas_data(raw_data, tz=\"America/Chicago\")\n",
    "df_BTC_CME_month.head(5)"
   ]
  },
  {
   "cell_type": "markdown",
   "id": "0a34f82f-c33e-4618-84de-574da1c31423",
   "metadata": {},
   "source": [
    "We are going to compare the data from CME with the data from crypto exchanges such as Coinbase, Gemini, Kraken, and Bitstamp. When we receive the data from Coinbase and other similar exchanges for a monthly timeframe, the historical market data includes data for every month. The last day of the month is the final point of the month. \n",
    "\n",
    "For example, the DateTime column has the following dates: 2018-01-31, 2018-02-28, 2018-03-31, etc.\n",
    "\n",
    "It is possible because crypto exchanges work every day of the year. Every month has one day. \n",
    "\n",
    "CME does not work every day. So in some cases, the DateTime column has two values/days for the same months. One of them is for the beginning of the month. The second is for the end of the month.\n",
    "\n",
    "For example: 2018-01-31, 2018-02-28, 2018-04-01, 2018-04-31.\n",
    "\n",
    "As we can see, March is missed and April has 2 days (April 1 and April 31). It is obvious that date 2018-04-01 corresponds to the March market data. So we need to compensate for this time shift to compare data on CME and crypto exchanges.\n",
    "\n",
    "Create the pandas series for that."
   ]
  },
  {
   "cell_type": "code",
   "execution_count": 5,
   "id": "01150b64-49e6-4891-8db5-e58e3c3af08b",
   "metadata": {},
   "outputs": [
    {
     "data": {
      "text/plain": [
       "0   5 days\n",
       "1   5 days\n",
       "2   5 days\n",
       "3   5 days\n",
       "4   5 days\n",
       "dtype: timedelta64[ns]"
      ]
     },
     "execution_count": 5,
     "metadata": {},
     "output_type": "execute_result"
    }
   ],
   "source": [
    "cnt_rows = df_BTC_CME_month[\"DateTime\"].size\n",
    "td = pd.Series([pd.Timedelta(5, \"day\") for row in range(cnt_rows)])\n",
    "td.head(5)"
   ]
  },
  {
   "cell_type": "code",
   "execution_count": 6,
   "id": "e7ec00e4-fbb0-40ef-b703-3df91940f671",
   "metadata": {},
   "outputs": [
    {
     "data": {
      "text/html": [
       "<div>\n",
       "<style scoped>\n",
       "    .dataframe tbody tr th:only-of-type {\n",
       "        vertical-align: middle;\n",
       "    }\n",
       "\n",
       "    .dataframe tbody tr th {\n",
       "        vertical-align: top;\n",
       "    }\n",
       "\n",
       "    .dataframe thead th {\n",
       "        text-align: right;\n",
       "    }\n",
       "</style>\n",
       "<table border=\"1\" class=\"dataframe\">\n",
       "  <thead>\n",
       "    <tr style=\"text-align: right;\">\n",
       "      <th></th>\n",
       "      <th>DateTime</th>\n",
       "      <th>Open</th>\n",
       "      <th>High</th>\n",
       "      <th>Low</th>\n",
       "      <th>Close</th>\n",
       "      <th>Volume</th>\n",
       "    </tr>\n",
       "  </thead>\n",
       "  <tbody>\n",
       "    <tr>\n",
       "      <th>0</th>\n",
       "      <td>2018-01-26 17:00:00-06:00</td>\n",
       "      <td>10020.0</td>\n",
       "      <td>11760.0</td>\n",
       "      <td>5970.0</td>\n",
       "      <td>10645.0</td>\n",
       "      <td>22415.0</td>\n",
       "    </tr>\n",
       "    <tr>\n",
       "      <th>1</th>\n",
       "      <td>2018-02-23 17:00:00-06:00</td>\n",
       "      <td>10450.0</td>\n",
       "      <td>11700.0</td>\n",
       "      <td>7070.0</td>\n",
       "      <td>7335.0</td>\n",
       "      <td>43599.0</td>\n",
       "    </tr>\n",
       "    <tr>\n",
       "      <th>2</th>\n",
       "      <td>2018-03-27 17:00:00-05:00</td>\n",
       "      <td>6905.0</td>\n",
       "      <td>9750.0</td>\n",
       "      <td>6485.0</td>\n",
       "      <td>9365.0</td>\n",
       "      <td>59129.0</td>\n",
       "    </tr>\n",
       "    <tr>\n",
       "      <th>3</th>\n",
       "      <td>2018-04-25 17:00:00-05:00</td>\n",
       "      <td>9285.0</td>\n",
       "      <td>9840.0</td>\n",
       "      <td>7050.0</td>\n",
       "      <td>7545.0</td>\n",
       "      <td>72710.0</td>\n",
       "    </tr>\n",
       "    <tr>\n",
       "      <th>4</th>\n",
       "      <td>2018-05-26 17:00:00-05:00</td>\n",
       "      <td>7550.0</td>\n",
       "      <td>7900.0</td>\n",
       "      <td>5755.0</td>\n",
       "      <td>5865.0</td>\n",
       "      <td>53182.0</td>\n",
       "    </tr>\n",
       "  </tbody>\n",
       "</table>\n",
       "</div>"
      ],
      "text/plain": [
       "                   DateTime     Open     High     Low    Close   Volume\n",
       "0 2018-01-26 17:00:00-06:00  10020.0  11760.0  5970.0  10645.0  22415.0\n",
       "1 2018-02-23 17:00:00-06:00  10450.0  11700.0  7070.0   7335.0  43599.0\n",
       "2 2018-03-27 17:00:00-05:00   6905.0   9750.0  6485.0   9365.0  59129.0\n",
       "3 2018-04-25 17:00:00-05:00   9285.0   9840.0  7050.0   7545.0  72710.0\n",
       "4 2018-05-26 17:00:00-05:00   7550.0   7900.0  5755.0   5865.0  53182.0"
      ]
     },
     "execution_count": 6,
     "metadata": {},
     "output_type": "execute_result"
    }
   ],
   "source": [
    "df_BTC_CME_month[\"DateTime\"] = df_BTC_CME_month[\"DateTime\"] - td\n",
    "df_BTC_CME_month.head(5)"
   ]
  },
  {
   "cell_type": "markdown",
   "id": "ed556152-f5bb-4c6f-be91-5a5ec2a53a1a",
   "metadata": {},
   "source": [
    "Create the dataframe with DateTime and Volume columns, cut/convert the date into YEAR-MONTH format."
   ]
  },
  {
   "cell_type": "code",
   "execution_count": 7,
   "id": "32d32d1f-5971-43d1-b08d-7e324ec3bfcd",
   "metadata": {
    "tags": []
   },
   "outputs": [
    {
     "name": "stderr",
     "output_type": "stream",
     "text": [
      "/var/folders/gh/mx3xbl0d69jftpptc8yn6mn40000gn/T/ipykernel_29836/2246683281.py:2: UserWarning: Converting to PeriodArray/Index representation will drop timezone information.\n",
      "  volume_CME[\"DateTime\"] = volume_CME[\"DateTime\"].dt.to_period(\"M\")\n"
     ]
    },
    {
     "data": {
      "text/html": [
       "<div>\n",
       "<style scoped>\n",
       "    .dataframe tbody tr th:only-of-type {\n",
       "        vertical-align: middle;\n",
       "    }\n",
       "\n",
       "    .dataframe tbody tr th {\n",
       "        vertical-align: top;\n",
       "    }\n",
       "\n",
       "    .dataframe thead th {\n",
       "        text-align: right;\n",
       "    }\n",
       "</style>\n",
       "<table border=\"1\" class=\"dataframe\">\n",
       "  <thead>\n",
       "    <tr style=\"text-align: right;\">\n",
       "      <th></th>\n",
       "      <th>DateTime</th>\n",
       "      <th>Volume</th>\n",
       "    </tr>\n",
       "  </thead>\n",
       "  <tbody>\n",
       "    <tr>\n",
       "      <th>0</th>\n",
       "      <td>2018-01</td>\n",
       "      <td>22415.0</td>\n",
       "    </tr>\n",
       "    <tr>\n",
       "      <th>1</th>\n",
       "      <td>2018-02</td>\n",
       "      <td>43599.0</td>\n",
       "    </tr>\n",
       "    <tr>\n",
       "      <th>2</th>\n",
       "      <td>2018-03</td>\n",
       "      <td>59129.0</td>\n",
       "    </tr>\n",
       "    <tr>\n",
       "      <th>3</th>\n",
       "      <td>2018-04</td>\n",
       "      <td>72710.0</td>\n",
       "    </tr>\n",
       "    <tr>\n",
       "      <th>4</th>\n",
       "      <td>2018-05</td>\n",
       "      <td>53182.0</td>\n",
       "    </tr>\n",
       "  </tbody>\n",
       "</table>\n",
       "</div>"
      ],
      "text/plain": [
       "  DateTime   Volume\n",
       "0  2018-01  22415.0\n",
       "1  2018-02  43599.0\n",
       "2  2018-03  59129.0\n",
       "3  2018-04  72710.0\n",
       "4  2018-05  53182.0"
      ]
     },
     "execution_count": 7,
     "metadata": {},
     "output_type": "execute_result"
    }
   ],
   "source": [
    "volume_CME = df_BTC_CME_month.loc[:, [\"DateTime\", \"Volume\"]]\n",
    "volume_CME[\"DateTime\"] = volume_CME[\"DateTime\"].dt.to_period(\"M\")\n",
    "volume_CME.head(5)"
   ]
  },
  {
   "cell_type": "markdown",
   "id": "3bd7a81b-b98b-4ded-a723-e9d8c0a084da",
   "metadata": {},
   "source": [
    "One bitcoin future contract size on CME is 5 BTC (see https://www.cmegroup.com/education/courses/introduction-to-bitcoin/what-are-bitcoin-futures.html). Crypto exchanges use 1 BTC as the base value. So we have to multiply the CME volume by 5. (converts future contracts to BTC)"
   ]
  },
  {
   "cell_type": "code",
   "execution_count": 8,
   "id": "b8369cd1-3b35-466b-923b-767f216007f0",
   "metadata": {},
   "outputs": [
    {
     "data": {
      "text/html": [
       "<div>\n",
       "<style scoped>\n",
       "    .dataframe tbody tr th:only-of-type {\n",
       "        vertical-align: middle;\n",
       "    }\n",
       "\n",
       "    .dataframe tbody tr th {\n",
       "        vertical-align: top;\n",
       "    }\n",
       "\n",
       "    .dataframe thead th {\n",
       "        text-align: right;\n",
       "    }\n",
       "</style>\n",
       "<table border=\"1\" class=\"dataframe\">\n",
       "  <thead>\n",
       "    <tr style=\"text-align: right;\">\n",
       "      <th></th>\n",
       "      <th>DateTime</th>\n",
       "      <th>Volume</th>\n",
       "    </tr>\n",
       "  </thead>\n",
       "  <tbody>\n",
       "    <tr>\n",
       "      <th>0</th>\n",
       "      <td>2018-01</td>\n",
       "      <td>112075.0</td>\n",
       "    </tr>\n",
       "    <tr>\n",
       "      <th>1</th>\n",
       "      <td>2018-02</td>\n",
       "      <td>217995.0</td>\n",
       "    </tr>\n",
       "    <tr>\n",
       "      <th>2</th>\n",
       "      <td>2018-03</td>\n",
       "      <td>295645.0</td>\n",
       "    </tr>\n",
       "    <tr>\n",
       "      <th>3</th>\n",
       "      <td>2018-04</td>\n",
       "      <td>363550.0</td>\n",
       "    </tr>\n",
       "    <tr>\n",
       "      <th>4</th>\n",
       "      <td>2018-05</td>\n",
       "      <td>265910.0</td>\n",
       "    </tr>\n",
       "  </tbody>\n",
       "</table>\n",
       "</div>"
      ],
      "text/plain": [
       "  DateTime    Volume\n",
       "0  2018-01  112075.0\n",
       "1  2018-02  217995.0\n",
       "2  2018-03  295645.0\n",
       "3  2018-04  363550.0\n",
       "4  2018-05  265910.0"
      ]
     },
     "execution_count": 8,
     "metadata": {},
     "output_type": "execute_result"
    }
   ],
   "source": [
    "volume_CME[\"Volume\"] = volume_CME[\"Volume\"] * 5\n",
    "volume_CME.head(5)"
   ]
  },
  {
   "cell_type": "markdown",
   "id": "a1df0d6b-cb45-4bf6-ac49-f794857a3da6",
   "metadata": {},
   "source": [
    "## Collect and prepare the data from COINBASE, GEMINI, KRAKEN, BITSTAMP (BTC)"
   ]
  },
  {
   "cell_type": "markdown",
   "id": "f15ee468-93fd-4565-ae1c-9a68f5b8dbae",
   "metadata": {},
   "source": [
    "Collect the historical market data for the last five years (the month timeframe) from Coinbase, Gemini, Kraken, and Bitstamp. Why do we choose these 4 crypto exchanges? \n",
    "* CME uses the CME CF Bitcoin Reference Rate (BRR) (see https://www.cmegroup.com/articles/faqs/cme-cf-cryptocurrency-benchmarks-faq.html). BRR is a benchmark. 6 crypto exchanges contribute market data for CME CF cryptocurrency benchmarks: Coinbase, Gemini, Kraken, Bitstamp, ITBIT, LMAX (https://www.cmegroup.com/articles/faqs/cme-cf-cryptocurrency-benchmarks-faq.html#q14). TradingView has the access to the first four. I suppose these 4 crypto exchanges have the biggest contribution. ITBIT and LMAX can be neglected for our purpose. \n",
    "* CME uses the USD as the base currency (not USDT, USDC, etc.). "
   ]
  },
  {
   "cell_type": "code",
   "execution_count": 9,
   "id": "79836a71-7428-4406-8d3c-140b25c7d14e",
   "metadata": {
    "tags": []
   },
   "outputs": [
    {
     "name": "stdout",
     "output_type": "stream",
     "text": [
      "2023-01-25 18:45:08,611 | fia.main | INFO | The Websocket connection was created.\n",
      "2023-01-25 18:45:10,144 | fia.main | INFO | All messages were created and sent. Wait...\n",
      "2023-01-25 18:46:28,772 | fia.main | WARNING | The remote host closed the Websocket connection or a network error happened.\n",
      "2023-01-25 18:46:28,777 | fia.main | INFO | The raw data is collected and the WebSocket connection is closed.\n",
      "2023-01-25 18:46:28,779 | fia.main | INFO | The json market data was created.\n",
      "2023-01-25 18:46:28,787 | fia.main | INFO | The dataframe market data was created.\n",
      "2023-01-25 18:46:29,965 | fia.main | INFO | The Websocket connection was created.\n",
      "2023-01-25 18:46:31,445 | fia.main | INFO | All messages were created and sent. Wait...\n",
      "2023-01-25 18:47:50,127 | fia.main | WARNING | The remote host closed the Websocket connection or a network error happened.\n",
      "2023-01-25 18:47:50,132 | fia.main | INFO | The raw data is collected and the WebSocket connection is closed.\n",
      "2023-01-25 18:47:50,134 | fia.main | INFO | The json market data was created.\n",
      "2023-01-25 18:47:50,144 | fia.main | INFO | The dataframe market data was created.\n",
      "2023-01-25 18:47:51,268 | fia.main | INFO | The Websocket connection was created.\n",
      "2023-01-25 18:47:52,824 | fia.main | INFO | All messages were created and sent. Wait...\n",
      "2023-01-25 18:49:11,443 | fia.main | WARNING | The remote host closed the Websocket connection or a network error happened.\n",
      "2023-01-25 18:49:11,448 | fia.main | INFO | The raw data is collected and the WebSocket connection is closed.\n",
      "2023-01-25 18:49:11,450 | fia.main | INFO | The json market data was created.\n",
      "2023-01-25 18:49:11,460 | fia.main | INFO | The dataframe market data was created.\n",
      "2023-01-25 18:49:12,541 | fia.main | INFO | The Websocket connection was created.\n",
      "2023-01-25 18:49:14,042 | fia.main | INFO | All messages were created and sent. Wait...\n",
      "2023-01-25 18:50:32,707 | fia.main | WARNING | The remote host closed the Websocket connection or a network error happened.\n",
      "2023-01-25 18:50:32,714 | fia.main | INFO | The raw data is collected and the WebSocket connection is closed.\n",
      "2023-01-25 18:50:32,716 | fia.main | INFO | The json market data was created.\n",
      "2023-01-25 18:50:32,734 | fia.main | INFO | The dataframe market data was created.\n"
     ]
    }
   ],
   "source": [
    "exchanges = [\"COINBASE\", \"GEMINI\", \"KRAKEN\", \"BITSTAMP\"]\n",
    "df_exchanges = {}\n",
    "for exchange in exchanges:\n",
    "    tvdc = TvDataCollector(username=os.environ.get(\"TV_USERNAME\"),\n",
    "                       password=os.environ.get(\"TV_PASSWORD\"),\n",
    "                       exchange=exchange, \n",
    "                       ticker_sym=\"BTCUSD\",\n",
    "                       currency=\"USD\",\n",
    "                       frame=Frame.MONTH,\n",
    "                       bars=60)\n",
    "    raw_data = tvdc.get_data()\n",
    "    df_exchanges[exchange] = tvdc.get_pandas_data(raw_data, tz=\"America/Chicago\")"
   ]
  },
  {
   "cell_type": "code",
   "execution_count": 10,
   "id": "d902cef1-36b9-4015-bf98-aa601f8c13d7",
   "metadata": {
    "tags": []
   },
   "outputs": [],
   "source": [
    "df_BTC_COINBASE_month = df_exchanges[\"COINBASE\"]\n",
    "df_BTC_GEMINI_month = df_exchanges[\"GEMINI\"]\n",
    "df_BTC_KRAKEN_month = df_exchanges[\"KRAKEN\"]\n",
    "df_BTC_BITSTAMP_month = df_exchanges[\"BITSTAMP\"]"
   ]
  },
  {
   "cell_type": "code",
   "execution_count": 11,
   "id": "88e51459-94a3-4d6d-aa24-9426a3399dd5",
   "metadata": {},
   "outputs": [
    {
     "data": {
      "text/html": [
       "<div>\n",
       "<style scoped>\n",
       "    .dataframe tbody tr th:only-of-type {\n",
       "        vertical-align: middle;\n",
       "    }\n",
       "\n",
       "    .dataframe tbody tr th {\n",
       "        vertical-align: top;\n",
       "    }\n",
       "\n",
       "    .dataframe thead th {\n",
       "        text-align: right;\n",
       "    }\n",
       "</style>\n",
       "<table border=\"1\" class=\"dataframe\">\n",
       "  <thead>\n",
       "    <tr style=\"text-align: right;\">\n",
       "      <th></th>\n",
       "      <th>DateTime</th>\n",
       "      <th>Open</th>\n",
       "      <th>High</th>\n",
       "      <th>Low</th>\n",
       "      <th>Close</th>\n",
       "      <th>Volume</th>\n",
       "    </tr>\n",
       "  </thead>\n",
       "  <tbody>\n",
       "    <tr>\n",
       "      <th>0</th>\n",
       "      <td>2018-01-31 18:00:00-06:00</td>\n",
       "      <td>10099.99</td>\n",
       "      <td>11775.00</td>\n",
       "      <td>5873.0</td>\n",
       "      <td>10307.27</td>\n",
       "      <td>810577.95371</td>\n",
       "    </tr>\n",
       "    <tr>\n",
       "      <th>1</th>\n",
       "      <td>2018-02-28 18:00:00-06:00</td>\n",
       "      <td>10307.26</td>\n",
       "      <td>11645.74</td>\n",
       "      <td>6600.0</td>\n",
       "      <td>6928.50</td>\n",
       "      <td>590509.44348</td>\n",
       "    </tr>\n",
       "    <tr>\n",
       "      <th>2</th>\n",
       "      <td>2018-03-31 19:00:00-05:00</td>\n",
       "      <td>6928.50</td>\n",
       "      <td>9763.49</td>\n",
       "      <td>6450.0</td>\n",
       "      <td>9243.83</td>\n",
       "      <td>397828.58622</td>\n",
       "    </tr>\n",
       "    <tr>\n",
       "      <th>3</th>\n",
       "      <td>2018-04-30 19:00:00-05:00</td>\n",
       "      <td>9243.83</td>\n",
       "      <td>9948.12</td>\n",
       "      <td>7058.0</td>\n",
       "      <td>7485.00</td>\n",
       "      <td>279347.22025</td>\n",
       "    </tr>\n",
       "    <tr>\n",
       "      <th>4</th>\n",
       "      <td>2018-05-31 19:00:00-05:00</td>\n",
       "      <td>7485.00</td>\n",
       "      <td>7777.00</td>\n",
       "      <td>5777.0</td>\n",
       "      <td>6383.19</td>\n",
       "      <td>242099.65644</td>\n",
       "    </tr>\n",
       "  </tbody>\n",
       "</table>\n",
       "</div>"
      ],
      "text/plain": [
       "                   DateTime      Open      High     Low     Close  \\\n",
       "0 2018-01-31 18:00:00-06:00  10099.99  11775.00  5873.0  10307.27   \n",
       "1 2018-02-28 18:00:00-06:00  10307.26  11645.74  6600.0   6928.50   \n",
       "2 2018-03-31 19:00:00-05:00   6928.50   9763.49  6450.0   9243.83   \n",
       "3 2018-04-30 19:00:00-05:00   9243.83   9948.12  7058.0   7485.00   \n",
       "4 2018-05-31 19:00:00-05:00   7485.00   7777.00  5777.0   6383.19   \n",
       "\n",
       "         Volume  \n",
       "0  810577.95371  \n",
       "1  590509.44348  \n",
       "2  397828.58622  \n",
       "3  279347.22025  \n",
       "4  242099.65644  "
      ]
     },
     "execution_count": 11,
     "metadata": {},
     "output_type": "execute_result"
    }
   ],
   "source": [
    "df_BTC_COINBASE_month.head(5)"
   ]
  },
  {
   "cell_type": "markdown",
   "id": "a60583c0-541f-4060-bcac-0667efc52a8b",
   "metadata": {},
   "source": [
    "Create the dataframes with DateTime and Volume columns, cut/convert the date into YEAR-MONTH format:"
   ]
  },
  {
   "cell_type": "code",
   "execution_count": 12,
   "id": "613b3083-b694-4a19-a563-79a5b239ac87",
   "metadata": {},
   "outputs": [
    {
     "name": "stderr",
     "output_type": "stream",
     "text": [
      "/var/folders/gh/mx3xbl0d69jftpptc8yn6mn40000gn/T/ipykernel_29836/264568657.py:4: UserWarning: Converting to PeriodArray/Index representation will drop timezone information.\n",
      "  volume_exchange[\"DateTime\"] = volume_exchange[\"DateTime\"].dt.to_period(\"M\")\n",
      "/var/folders/gh/mx3xbl0d69jftpptc8yn6mn40000gn/T/ipykernel_29836/264568657.py:4: UserWarning: Converting to PeriodArray/Index representation will drop timezone information.\n",
      "  volume_exchange[\"DateTime\"] = volume_exchange[\"DateTime\"].dt.to_period(\"M\")\n",
      "/var/folders/gh/mx3xbl0d69jftpptc8yn6mn40000gn/T/ipykernel_29836/264568657.py:4: UserWarning: Converting to PeriodArray/Index representation will drop timezone information.\n",
      "  volume_exchange[\"DateTime\"] = volume_exchange[\"DateTime\"].dt.to_period(\"M\")\n",
      "/var/folders/gh/mx3xbl0d69jftpptc8yn6mn40000gn/T/ipykernel_29836/264568657.py:4: UserWarning: Converting to PeriodArray/Index representation will drop timezone information.\n",
      "  volume_exchange[\"DateTime\"] = volume_exchange[\"DateTime\"].dt.to_period(\"M\")\n"
     ]
    },
    {
     "data": {
      "text/html": [
       "<div>\n",
       "<style scoped>\n",
       "    .dataframe tbody tr th:only-of-type {\n",
       "        vertical-align: middle;\n",
       "    }\n",
       "\n",
       "    .dataframe tbody tr th {\n",
       "        vertical-align: top;\n",
       "    }\n",
       "\n",
       "    .dataframe thead th {\n",
       "        text-align: right;\n",
       "    }\n",
       "</style>\n",
       "<table border=\"1\" class=\"dataframe\">\n",
       "  <thead>\n",
       "    <tr style=\"text-align: right;\">\n",
       "      <th></th>\n",
       "      <th>Volume</th>\n",
       "    </tr>\n",
       "    <tr>\n",
       "      <th>DateTime</th>\n",
       "      <th></th>\n",
       "    </tr>\n",
       "  </thead>\n",
       "  <tbody>\n",
       "    <tr>\n",
       "      <th>2018-01</th>\n",
       "      <td>810577.95371</td>\n",
       "    </tr>\n",
       "    <tr>\n",
       "      <th>2018-02</th>\n",
       "      <td>590509.44348</td>\n",
       "    </tr>\n",
       "    <tr>\n",
       "      <th>2018-03</th>\n",
       "      <td>397828.58622</td>\n",
       "    </tr>\n",
       "    <tr>\n",
       "      <th>2018-04</th>\n",
       "      <td>279347.22025</td>\n",
       "    </tr>\n",
       "    <tr>\n",
       "      <th>2018-05</th>\n",
       "      <td>242099.65644</td>\n",
       "    </tr>\n",
       "  </tbody>\n",
       "</table>\n",
       "</div>"
      ],
      "text/plain": [
       "                Volume\n",
       "DateTime              \n",
       "2018-01   810577.95371\n",
       "2018-02   590509.44348\n",
       "2018-03   397828.58622\n",
       "2018-04   279347.22025\n",
       "2018-05   242099.65644"
      ]
     },
     "execution_count": 12,
     "metadata": {},
     "output_type": "execute_result"
    }
   ],
   "source": [
    "volume_exchanges = {}\n",
    "for exchange in exchanges:\n",
    "    volume_exchange = (df_exchanges[exchange].loc[:, [\"DateTime\", \"Volume\"]])\n",
    "    volume_exchange[\"DateTime\"] = volume_exchange[\"DateTime\"].dt.to_period(\"M\")\n",
    "    volume_exchanges[exchange] = volume_exchange.set_index(\"DateTime\")\n",
    "volume_exchanges[\"COINBASE\"].head(5)    "
   ]
  },
  {
   "cell_type": "code",
   "execution_count": 13,
   "id": "e11453dc-3e7e-432d-9258-39474a308094",
   "metadata": {},
   "outputs": [
    {
     "data": {
      "text/html": [
       "<div>\n",
       "<style scoped>\n",
       "    .dataframe tbody tr th:only-of-type {\n",
       "        vertical-align: middle;\n",
       "    }\n",
       "\n",
       "    .dataframe tbody tr th {\n",
       "        vertical-align: top;\n",
       "    }\n",
       "\n",
       "    .dataframe thead th {\n",
       "        text-align: right;\n",
       "    }\n",
       "</style>\n",
       "<table border=\"1\" class=\"dataframe\">\n",
       "  <thead>\n",
       "    <tr style=\"text-align: right;\">\n",
       "      <th></th>\n",
       "      <th>Volume</th>\n",
       "    </tr>\n",
       "    <tr>\n",
       "      <th>DateTime</th>\n",
       "      <th></th>\n",
       "    </tr>\n",
       "  </thead>\n",
       "  <tbody>\n",
       "    <tr>\n",
       "      <th>2018-01</th>\n",
       "      <td>810577.95371</td>\n",
       "    </tr>\n",
       "    <tr>\n",
       "      <th>2018-02</th>\n",
       "      <td>590509.44348</td>\n",
       "    </tr>\n",
       "    <tr>\n",
       "      <th>2018-03</th>\n",
       "      <td>397828.58622</td>\n",
       "    </tr>\n",
       "    <tr>\n",
       "      <th>2018-04</th>\n",
       "      <td>279347.22025</td>\n",
       "    </tr>\n",
       "    <tr>\n",
       "      <th>2018-05</th>\n",
       "      <td>242099.65644</td>\n",
       "    </tr>\n",
       "  </tbody>\n",
       "</table>\n",
       "</div>"
      ],
      "text/plain": [
       "                Volume\n",
       "DateTime              \n",
       "2018-01   810577.95371\n",
       "2018-02   590509.44348\n",
       "2018-03   397828.58622\n",
       "2018-04   279347.22025\n",
       "2018-05   242099.65644"
      ]
     },
     "execution_count": 13,
     "metadata": {},
     "output_type": "execute_result"
    }
   ],
   "source": [
    "df_COINBASE_volume_month = volume_exchanges[\"COINBASE\"]\n",
    "df_GEMINI_volume_month = volume_exchanges[\"GEMINI\"]\n",
    "df_KRAKEN_volume_month = volume_exchanges[\"KRAKEN\"]\n",
    "df_BITSTAMP_volume_month = volume_exchanges[\"BITSTAMP\"]\n",
    "df_COINBASE_volume_month.head(5)"
   ]
  },
  {
   "cell_type": "markdown",
   "id": "fa0655c5-f454-4844-81d6-d1d4daedf81d",
   "metadata": {
    "tags": []
   },
   "source": [
    "## Collect and prepare the data from BINANCE (BTC/USDT, spot)"
   ]
  },
  {
   "cell_type": "markdown",
   "id": "e791077a-341d-4f2f-8f78-3ade5f153b6f",
   "metadata": {},
   "source": [
    "Collect the Binance historical market data (the month timeframe):"
   ]
  },
  {
   "cell_type": "code",
   "execution_count": 14,
   "id": "5f0e3b5f-8ea0-4808-9509-297edc8fcd48",
   "metadata": {
    "tags": []
   },
   "outputs": [
    {
     "name": "stdout",
     "output_type": "stream",
     "text": [
      "2023-01-25 18:50:33,930 | fia.main | INFO | The Websocket connection was created.\n",
      "2023-01-25 18:50:35,399 | fia.main | INFO | All messages were created and sent. Wait...\n",
      "2023-01-25 18:51:54,093 | fia.main | WARNING | The remote host closed the Websocket connection or a network error happened.\n",
      "2023-01-25 18:51:54,099 | fia.main | INFO | The raw data is collected and the WebSocket connection is closed.\n",
      "2023-01-25 18:51:54,101 | fia.main | INFO | The json market data was created.\n",
      "2023-01-25 18:51:54,126 | fia.main | INFO | The dataframe market data was created.\n"
     ]
    },
    {
     "data": {
      "text/html": [
       "<div>\n",
       "<style scoped>\n",
       "    .dataframe tbody tr th:only-of-type {\n",
       "        vertical-align: middle;\n",
       "    }\n",
       "\n",
       "    .dataframe tbody tr th {\n",
       "        vertical-align: top;\n",
       "    }\n",
       "\n",
       "    .dataframe thead th {\n",
       "        text-align: right;\n",
       "    }\n",
       "</style>\n",
       "<table border=\"1\" class=\"dataframe\">\n",
       "  <thead>\n",
       "    <tr style=\"text-align: right;\">\n",
       "      <th></th>\n",
       "      <th>DateTime</th>\n",
       "      <th>Open</th>\n",
       "      <th>High</th>\n",
       "      <th>Low</th>\n",
       "      <th>Close</th>\n",
       "      <th>Volume</th>\n",
       "    </tr>\n",
       "  </thead>\n",
       "  <tbody>\n",
       "    <tr>\n",
       "      <th>0</th>\n",
       "      <td>2021-05-31 19:00:00-05:00</td>\n",
       "      <td>37268.721528</td>\n",
       "      <td>41346.5320</td>\n",
       "      <td>28816.522000</td>\n",
       "      <td>35059.018000</td>\n",
       "      <td>2.901775e+06</td>\n",
       "    </tr>\n",
       "    <tr>\n",
       "      <th>1</th>\n",
       "      <td>2021-06-30 19:00:00-05:00</td>\n",
       "      <td>35052.009000</td>\n",
       "      <td>42456.4896</td>\n",
       "      <td>29283.855600</td>\n",
       "      <td>41470.122366</td>\n",
       "      <td>1.778463e+06</td>\n",
       "    </tr>\n",
       "    <tr>\n",
       "      <th>2</th>\n",
       "      <td>2021-07-31 19:00:00-05:00</td>\n",
       "      <td>41486.717104</td>\n",
       "      <td>50530.3000</td>\n",
       "      <td>37355.099620</td>\n",
       "      <td>47129.150534</td>\n",
       "      <td>1.635403e+06</td>\n",
       "    </tr>\n",
       "    <tr>\n",
       "      <th>3</th>\n",
       "      <td>2021-08-31 19:00:00-05:00</td>\n",
       "      <td>47110.310178</td>\n",
       "      <td>52930.5840</td>\n",
       "      <td>39607.920000</td>\n",
       "      <td>43832.864820</td>\n",
       "      <td>1.527800e+06</td>\n",
       "    </tr>\n",
       "    <tr>\n",
       "      <th>4</th>\n",
       "      <td>2021-09-30 19:00:00-05:00</td>\n",
       "      <td>43828.774002</td>\n",
       "      <td>67013.4000</td>\n",
       "      <td>43291.686606</td>\n",
       "      <td>61312.059960</td>\n",
       "      <td>1.565547e+06</td>\n",
       "    </tr>\n",
       "  </tbody>\n",
       "</table>\n",
       "</div>"
      ],
      "text/plain": [
       "                   DateTime          Open        High           Low  \\\n",
       "0 2021-05-31 19:00:00-05:00  37268.721528  41346.5320  28816.522000   \n",
       "1 2021-06-30 19:00:00-05:00  35052.009000  42456.4896  29283.855600   \n",
       "2 2021-07-31 19:00:00-05:00  41486.717104  50530.3000  37355.099620   \n",
       "3 2021-08-31 19:00:00-05:00  47110.310178  52930.5840  39607.920000   \n",
       "4 2021-09-30 19:00:00-05:00  43828.774002  67013.4000  43291.686606   \n",
       "\n",
       "          Close        Volume  \n",
       "0  35059.018000  2.901775e+06  \n",
       "1  41470.122366  1.778463e+06  \n",
       "2  47129.150534  1.635403e+06  \n",
       "3  43832.864820  1.527800e+06  \n",
       "4  61312.059960  1.565547e+06  "
      ]
     },
     "execution_count": 14,
     "metadata": {},
     "output_type": "execute_result"
    }
   ],
   "source": [
    "tvdc = TvDataCollector(username=os.environ.get(\"TV_USERNAME\"),\n",
    "                       password=os.environ.get(\"TV_PASSWORD\"),\n",
    "                       exchange=\"BINANCE\", \n",
    "                       ticker_sym=\"BTCUSDT\",\n",
    "                       currency=\"USD\",\n",
    "                       frame=Frame.MONTH,\n",
    "                       bars=60)\n",
    "raw_data = tvdc.get_data()\n",
    "df_BTC_BINANCE_month = tvdc.get_pandas_data(raw_data, tz=\"America/Chicago\")\n",
    "df_BTC_BINANCE_month.head(5)"
   ]
  },
  {
   "cell_type": "markdown",
   "id": "a660d367-167e-461a-b073-8e03e5682c00",
   "metadata": {},
   "source": [
    "Create the dataframe with DateTime and Volume column, cut/convert the date into YEAR-MONTH format:"
   ]
  },
  {
   "cell_type": "code",
   "execution_count": 15,
   "id": "181b5e7a-2bc5-4e77-85ca-1ed28429344b",
   "metadata": {},
   "outputs": [
    {
     "name": "stderr",
     "output_type": "stream",
     "text": [
      "/var/folders/gh/mx3xbl0d69jftpptc8yn6mn40000gn/T/ipykernel_29836/3641663784.py:2: UserWarning: Converting to PeriodArray/Index representation will drop timezone information.\n",
      "  volume_BINANCE[\"DateTime\"] = volume_BINANCE[\"DateTime\"].dt.to_period(\"M\")\n"
     ]
    },
    {
     "data": {
      "text/html": [
       "<div>\n",
       "<style scoped>\n",
       "    .dataframe tbody tr th:only-of-type {\n",
       "        vertical-align: middle;\n",
       "    }\n",
       "\n",
       "    .dataframe tbody tr th {\n",
       "        vertical-align: top;\n",
       "    }\n",
       "\n",
       "    .dataframe thead th {\n",
       "        text-align: right;\n",
       "    }\n",
       "</style>\n",
       "<table border=\"1\" class=\"dataframe\">\n",
       "  <thead>\n",
       "    <tr style=\"text-align: right;\">\n",
       "      <th></th>\n",
       "      <th>Volume</th>\n",
       "    </tr>\n",
       "    <tr>\n",
       "      <th>DateTime</th>\n",
       "      <th></th>\n",
       "    </tr>\n",
       "  </thead>\n",
       "  <tbody>\n",
       "    <tr>\n",
       "      <th>2021-05</th>\n",
       "      <td>2.901775e+06</td>\n",
       "    </tr>\n",
       "    <tr>\n",
       "      <th>2021-06</th>\n",
       "      <td>1.778463e+06</td>\n",
       "    </tr>\n",
       "    <tr>\n",
       "      <th>2021-07</th>\n",
       "      <td>1.635403e+06</td>\n",
       "    </tr>\n",
       "    <tr>\n",
       "      <th>2021-08</th>\n",
       "      <td>1.527800e+06</td>\n",
       "    </tr>\n",
       "    <tr>\n",
       "      <th>2021-09</th>\n",
       "      <td>1.565547e+06</td>\n",
       "    </tr>\n",
       "  </tbody>\n",
       "</table>\n",
       "</div>"
      ],
      "text/plain": [
       "                Volume\n",
       "DateTime              \n",
       "2021-05   2.901775e+06\n",
       "2021-06   1.778463e+06\n",
       "2021-07   1.635403e+06\n",
       "2021-08   1.527800e+06\n",
       "2021-09   1.565547e+06"
      ]
     },
     "execution_count": 15,
     "metadata": {},
     "output_type": "execute_result"
    }
   ],
   "source": [
    "volume_BINANCE = df_BTC_BINANCE_month.loc[:, [\"DateTime\", \"Volume\"]]\n",
    "volume_BINANCE[\"DateTime\"] = volume_BINANCE[\"DateTime\"].dt.to_period(\"M\")\n",
    "volume_BINANCE = volume_BINANCE.set_index(\"DateTime\")\n",
    "volume_BINANCE.head(5)    "
   ]
  },
  {
   "cell_type": "markdown",
   "id": "88bd4e96-439e-43f3-8d00-fa41386d1120",
   "metadata": {
    "tags": []
   },
   "source": [
    "## Compare the CME futures volume with the crypto exchanges volume (Coinbase, Geimini, Kraken, Bitstamp)"
   ]
  },
  {
   "cell_type": "markdown",
   "id": "479d24f2-3556-4c52-9fb1-6e30d055283d",
   "metadata": {},
   "source": [
    "Concatinate the volume data from 5 exchanges:"
   ]
  },
  {
   "cell_type": "code",
   "execution_count": 16,
   "id": "3ed20c29-45b5-49c6-a4be-0afa76f2058e",
   "metadata": {
    "tags": []
   },
   "outputs": [
    {
     "data": {
      "text/html": [
       "<div>\n",
       "<style scoped>\n",
       "    .dataframe tbody tr th:only-of-type {\n",
       "        vertical-align: middle;\n",
       "    }\n",
       "\n",
       "    .dataframe tbody tr th {\n",
       "        vertical-align: top;\n",
       "    }\n",
       "\n",
       "    .dataframe thead th {\n",
       "        text-align: right;\n",
       "    }\n",
       "</style>\n",
       "<table border=\"1\" class=\"dataframe\">\n",
       "  <thead>\n",
       "    <tr style=\"text-align: right;\">\n",
       "      <th></th>\n",
       "      <th>Volume_CME</th>\n",
       "      <th>Volume_COINBASE</th>\n",
       "      <th>Volume_GEMINI</th>\n",
       "      <th>Volume_KRAKEN</th>\n",
       "      <th>Volume_BITSTAMP</th>\n",
       "    </tr>\n",
       "    <tr>\n",
       "      <th>DateTime</th>\n",
       "      <th></th>\n",
       "      <th></th>\n",
       "      <th></th>\n",
       "      <th></th>\n",
       "      <th></th>\n",
       "    </tr>\n",
       "  </thead>\n",
       "  <tbody>\n",
       "    <tr>\n",
       "      <th>2018-01</th>\n",
       "      <td>112075.0</td>\n",
       "      <td>810577.95371</td>\n",
       "      <td>270765.118818</td>\n",
       "      <td>307288.817425</td>\n",
       "      <td>579336.186375</td>\n",
       "    </tr>\n",
       "    <tr>\n",
       "      <th>2018-02</th>\n",
       "      <td>217995.0</td>\n",
       "      <td>590509.44348</td>\n",
       "      <td>219405.454856</td>\n",
       "      <td>357081.409426</td>\n",
       "      <td>477981.404561</td>\n",
       "    </tr>\n",
       "    <tr>\n",
       "      <th>2018-03</th>\n",
       "      <td>295645.0</td>\n",
       "      <td>397828.58622</td>\n",
       "      <td>146603.284382</td>\n",
       "      <td>216892.033102</td>\n",
       "      <td>382811.764112</td>\n",
       "    </tr>\n",
       "    <tr>\n",
       "      <th>2018-04</th>\n",
       "      <td>363550.0</td>\n",
       "      <td>279347.22025</td>\n",
       "      <td>110978.291788</td>\n",
       "      <td>133683.161950</td>\n",
       "      <td>315307.615853</td>\n",
       "    </tr>\n",
       "    <tr>\n",
       "      <th>2018-05</th>\n",
       "      <td>265910.0</td>\n",
       "      <td>242099.65644</td>\n",
       "      <td>84948.960548</td>\n",
       "      <td>118024.334767</td>\n",
       "      <td>244681.794212</td>\n",
       "    </tr>\n",
       "  </tbody>\n",
       "</table>\n",
       "</div>"
      ],
      "text/plain": [
       "          Volume_CME  Volume_COINBASE  Volume_GEMINI  Volume_KRAKEN  \\\n",
       "DateTime                                                              \n",
       "2018-01     112075.0     810577.95371  270765.118818  307288.817425   \n",
       "2018-02     217995.0     590509.44348  219405.454856  357081.409426   \n",
       "2018-03     295645.0     397828.58622  146603.284382  216892.033102   \n",
       "2018-04     363550.0     279347.22025  110978.291788  133683.161950   \n",
       "2018-05     265910.0     242099.65644   84948.960548  118024.334767   \n",
       "\n",
       "          Volume_BITSTAMP  \n",
       "DateTime                   \n",
       "2018-01     579336.186375  \n",
       "2018-02     477981.404561  \n",
       "2018-03     382811.764112  \n",
       "2018-04     315307.615853  \n",
       "2018-05     244681.794212  "
      ]
     },
     "execution_count": 16,
     "metadata": {},
     "output_type": "execute_result"
    }
   ],
   "source": [
    "df = pd.concat(\n",
    "    [\n",
    "        volume_CME.set_index(\"DateTime\"),\n",
    "        volume_exchanges[\"COINBASE\"], \n",
    "        volume_exchanges[\"GEMINI\"], \n",
    "        volume_exchanges[\"KRAKEN\"], \n",
    "        volume_exchanges[\"BITSTAMP\"]        \n",
    "    ],  \n",
    "    axis=1,\n",
    "    join=\"inner\"\n",
    ")\n",
    "df.columns = [ \"Volume_CME\", \"Volume_COINBASE\", \"Volume_GEMINI\", \"Volume_KRAKEN\", \"Volume_BITSTAMP\" ]\n",
    "df.head(5)"
   ]
  },
  {
   "cell_type": "markdown",
   "id": "8500a2a7-411b-4e03-93f7-74ec9c77c799",
   "metadata": {},
   "source": [
    "Set and create the plot (stacked bar chart):"
   ]
  },
  {
   "cell_type": "code",
   "execution_count": 17,
   "id": "18705ddf-39d8-40b8-861c-ea376b2d3455",
   "metadata": {},
   "outputs": [],
   "source": [
    "df = df.reset_index()"
   ]
  },
  {
   "cell_type": "code",
   "execution_count": 18,
   "id": "b0f2bb6c-601d-4398-b3b5-5e04b0fd70eb",
   "metadata": {},
   "outputs": [
    {
     "data": {
      "text/plain": [
       "<AxesSubplot: title={'center': 'Montly BTC Volume on CME Futures and COINBASE, GEMINI, KRAKEN and BITSTAMP exchanges (spot, BTCUSD).'}, xlabel='Date (Year-Month)', ylabel='Volume, BTC'>"
      ]
     },
     "execution_count": 18,
     "metadata": {},
     "output_type": "execute_result"
    },
    {
     "data": {
      "image/png": "[encoded data removed]",
      "text/plain": [
       "<Figure size 1500x500 with 1 Axes>"
      ]
     },
     "metadata": {},
     "output_type": "display_data"
    }
   ],
   "source": [
    "df.plot(\n",
    "    x=\"DateTime\", \n",
    "    kind=\"bar\", \n",
    "    stacked=True,\n",
    "    # grid=\"on\",\n",
    "    figsize=(15, 5),\n",
    "    width=0.7,\n",
    "    xlabel=\"Date (Year-Month)\",\n",
    "    ylabel=\"Volume, BTC\",\n",
    "    title=\"Montly BTC Volume on CME Futures and COINBASE, GEMINI, KRAKEN and BITSTAMP exchanges (spot, BTCUSD).\"\n",
    ")"
   ]
  },
  {
   "cell_type": "markdown",
   "id": "e57ca86e-f4b9-48ed-bf39-8fe6e9633dc9",
   "metadata": {
    "tags": []
   },
   "source": [
    "## Compare the CME futures volume with the Binance volume (spot)"
   ]
  },
  {
   "cell_type": "code",
   "execution_count": 19,
   "id": "c290e6c3-90a3-4beb-a938-0876e55991d6",
   "metadata": {},
   "outputs": [
    {
     "data": {
      "text/html": [
       "<div>\n",
       "<style scoped>\n",
       "    .dataframe tbody tr th:only-of-type {\n",
       "        vertical-align: middle;\n",
       "    }\n",
       "\n",
       "    .dataframe tbody tr th {\n",
       "        vertical-align: top;\n",
       "    }\n",
       "\n",
       "    .dataframe thead th {\n",
       "        text-align: right;\n",
       "    }\n",
       "</style>\n",
       "<table border=\"1\" class=\"dataframe\">\n",
       "  <thead>\n",
       "    <tr style=\"text-align: right;\">\n",
       "      <th></th>\n",
       "      <th>Volume_CME</th>\n",
       "      <th>Volume_BINANCE</th>\n",
       "    </tr>\n",
       "    <tr>\n",
       "      <th>DateTime</th>\n",
       "      <th></th>\n",
       "      <th></th>\n",
       "    </tr>\n",
       "  </thead>\n",
       "  <tbody>\n",
       "    <tr>\n",
       "      <th>2021-05</th>\n",
       "      <td>727070.0</td>\n",
       "      <td>2.901775e+06</td>\n",
       "    </tr>\n",
       "    <tr>\n",
       "      <th>2021-06</th>\n",
       "      <td>584010.0</td>\n",
       "      <td>1.778463e+06</td>\n",
       "    </tr>\n",
       "    <tr>\n",
       "      <th>2021-07</th>\n",
       "      <td>564555.0</td>\n",
       "      <td>1.635403e+06</td>\n",
       "    </tr>\n",
       "    <tr>\n",
       "      <th>2021-08</th>\n",
       "      <td>622350.0</td>\n",
       "      <td>1.527800e+06</td>\n",
       "    </tr>\n",
       "    <tr>\n",
       "      <th>2021-09</th>\n",
       "      <td>944830.0</td>\n",
       "      <td>1.565547e+06</td>\n",
       "    </tr>\n",
       "  </tbody>\n",
       "</table>\n",
       "</div>"
      ],
      "text/plain": [
       "          Volume_CME  Volume_BINANCE\n",
       "DateTime                            \n",
       "2021-05     727070.0    2.901775e+06\n",
       "2021-06     584010.0    1.778463e+06\n",
       "2021-07     564555.0    1.635403e+06\n",
       "2021-08     622350.0    1.527800e+06\n",
       "2021-09     944830.0    1.565547e+06"
      ]
     },
     "execution_count": 19,
     "metadata": {},
     "output_type": "execute_result"
    }
   ],
   "source": [
    "df = pd.concat(\n",
    "    [\n",
    "        volume_CME.set_index(\"DateTime\"),\n",
    "        volume_BINANCE\n",
    "    ],\n",
    "    axis=1,\n",
    "    join=\"inner\"\n",
    ")\n",
    "df.columns = [\"Volume_CME\", \"Volume_BINANCE\"]\n",
    "df.head(5)"
   ]
  },
  {
   "cell_type": "markdown",
   "id": "28f176cd-c29d-49ea-a4f6-8b0b7d02594b",
   "metadata": {},
   "source": [
    "Set and create the plot (stacked bar chart):"
   ]
  },
  {
   "cell_type": "code",
   "execution_count": 20,
   "id": "7d049a51-7bae-45cc-9baf-08bb448982c4",
   "metadata": {},
   "outputs": [],
   "source": [
    "df = df.reset_index()"
   ]
  },
  {
   "cell_type": "code",
   "execution_count": 21,
   "id": "6151cf07-b190-451b-85d6-0e4d77c56ee1",
   "metadata": {},
   "outputs": [
    {
     "data": {
      "text/plain": [
       "<AxesSubplot: title={'center': 'Montly BTC Volume on CME Futures and BINANCE (spot, BTCUSDT).'}, xlabel='Date (Year-Month)', ylabel='Volume, BTC'>"
      ]
     },
     "execution_count": 21,
     "metadata": {},
     "output_type": "execute_result"
    },
    {
     "data": {
      "image/png": "[encoded data removed]",
      "text/plain": [
       "<Figure size 640x480 with 1 Axes>"
      ]
     },
     "metadata": {},
     "output_type": "display_data"
    }
   ],
   "source": [
    "df.plot(\n",
    "    x=\"DateTime\", \n",
    "    kind=\"bar\", \n",
    "    stacked=True,\n",
    "    # grid=\"on\",\n",
    "    #figsize=(15, 5),\n",
    "    width=0.7,\n",
    "    xlabel=\"Date (Year-Month)\",\n",
    "    ylabel=\"Volume, BTC\",\n",
    "    title=\"Montly BTC Volume on CME Futures and BINANCE (spot, BTCUSDT).\"\n",
    ")"
   ]
  },
  {
   "cell_type": "markdown",
   "id": "cb0bc274-a2c3-4485-b5a7-809fe3cb14ff",
   "metadata": {},
   "source": [
    "## Conclusion"
   ]
  },
  {
   "cell_type": "markdown",
   "id": "31128fbb-f6a5-40f3-9bfa-36c46d0ffe21",
   "metadata": {},
   "source": [
    "* On the one hand, CME has a significant portion of total trading volume (~40-50% of BTC/USD market), especially in the last 2 years.\n",
    "* On the other hand, even one Binance has a much bigger volume than CME. If we add volumes of other crypto exchanges (Bybit, OKX, MEXC, etc.), perpetual futures (not only spot market), and trading pairs with other stablecoins (BUSD, USDC, etc.), the difference in the volume will be even bigger.  \n",
    "* Nevertheless CME is used by big institutional investors and funds, so the CME volume can influence the market. \n",
    "* It is important to estimate the weekend gaps as one of the factors that can influence the market."
   ]
  },
  {
   "cell_type": "markdown",
   "id": "a79e5cb8-dc7e-4352-b4ef-a727bef5622c",
   "metadata": {},
   "source": [
    "## Useful links"
   ]
  },
  {
   "cell_type": "markdown",
   "id": "b699c58c-434f-4574-8af5-fcf7d61eedae",
   "metadata": {},
   "source": [
    "* https://www.cmegroup.com/articles/faqs/cme-cf-cryptocurrency-benchmarks-faq.html\n",
    "* https://www.cmegroup.com/education/articles-and-reports/analysis-of-cme-cf-bitcoin-reference-rate.html\n",
    "* https://www.cmegroup.com/education/courses/introduction-to-cryptocurrency-futures/bitcoin/introduction-to-bitcoin-reference-rate.html\n",
    "* https://www.cmegroup.com/education/courses/introduction-to-bitcoin/what-are-bitcoin-futures.html\n",
    "* https://www.cmegroup.com/markets/cryptocurrencies/bitcoin/bitcoin.contractSpecs.html\n",
    "* https://www.cmegroup.com/markets/cryptocurrencies/bitcoin/bitcoin.volume.html\n",
    "* https://blockworks.co/news/bitcoin-futures-and-short-etfs-record-huge-volume-spike-tuesday\n",
    "* https://www.forbes.com/sites/javierpaz/2022/08/26/more-than-half-of-all-bitcoin-trades-are-fake\n",
    "* https://www.forbes.com/sites/javierpaz/2022/03/16/the-best-global-crypto-exchanges"
   ]
  }
 ],
 "metadata": {
  "kernelspec": {
   "display_name": "Python 3.10 (env_mc_fi_10)",
   "language": "python",
   "name": "env_mc_fi_10"
  },
  "language_info": {
   "codemirror_mode": {
    "name": "ipython",
    "version": 3
   },
   "file_extension": ".py",
   "mimetype": "text/x-python",
   "name": "python",
   "nbconvert_exporter": "python",
   "pygments_lexer": "ipython3",
   "version": "3.10.6"
  }
 },
 "nbformat": 4,
 "nbformat_minor": 5
}
